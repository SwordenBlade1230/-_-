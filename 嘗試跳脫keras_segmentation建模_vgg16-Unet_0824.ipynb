{
 "cells": [
  {
   "cell_type": "markdown",
   "metadata": {},
   "source": [
    "### 筆記\n",
    "* keras_segmentation 最新版本：0.3.0\n",
    "* 官網上_unet有activation='relu'，但實際最新安裝的版本沒有(activation=None) \n",
    "* 重要：keras_segmentation的vgg_unet中vgg16的部分有先用imagenet(一個大型視覺資料庫)進行預訓練(as a pretrained model)，起始參數並非重頭開始隨機決定的！\n",
    "\n",
    "### 還差什麼？\n",
    "* 一個能夠產出預測結果(n x InputSize^2 x n_class ➡ n x 512 x 512)的函式"
   ]
  },
  {
   "cell_type": "markdown",
   "metadata": {},
   "source": [
    "## 第一部分：使用keras_segmentation這個套件建立vgg_unet"
   ]
  },
  {
   "cell_type": "code",
   "execution_count": 1,
   "metadata": {},
   "outputs": [
    {
     "name": "stderr",
     "output_type": "stream",
     "text": [
      "Using TensorFlow backend.\n"
     ]
    }
   ],
   "source": [
    "import tensorflow as tf\n",
    "from keras_segmentation.models.unet import vgg_unet\n",
    "import keras\n",
    "import numpy as np\n",
    "import os\n",
    "import cv2\n",
    "import time\n",
    "import matplotlib.pyplot as plt"
   ]
  },
  {
   "cell_type": "code",
   "execution_count": 2,
   "metadata": {},
   "outputs": [
    {
     "name": "stdout",
     "output_type": "stream",
     "text": [
      "1 Physical GPUs, 1 Logical GPUs\n"
     ]
    }
   ],
   "source": [
    "def solve_cudnn_error():\n",
    "    gpus = tf.config.experimental.list_physical_devices('GPU')\n",
    "    if gpus:\n",
    "        try:\n",
    "            # Currently, memory growth needs to be the same across GPUs\n",
    "            for gpu in gpus:\n",
    "                tf.config.experimental.set_memory_growth(gpu, True)\n",
    "            logical_gpus = tf.config.experimental.list_logical_devices('GPU')\n",
    "            print(len(gpus), \"Physical GPUs,\", len(logical_gpus), \"Logical GPUs\")\n",
    "        except RuntimeError as e:\n",
    "            # Memory growth must be set before GPUs have been initialized\n",
    "            print(e)\n",
    "\n",
    "solve_cudnn_error()"
   ]
  },
  {
   "cell_type": "code",
   "execution_count": 3,
   "metadata": {},
   "outputs": [
    {
     "name": "stdout",
     "output_type": "stream",
     "text": [
      "WARNING:tensorflow:From C:\\Users\\kevin\\Anaconda3\\lib\\site-packages\\keras\\backend\\tensorflow_backend.py:4070: The name tf.nn.max_pool is deprecated. Please use tf.nn.max_pool2d instead.\n",
      "\n"
     ]
    }
   ],
   "source": [
    "INPUT_SIZE = 64\n",
    "model_ = vgg_unet(n_classes = 2, input_height = INPUT_SIZE, input_width = INPUT_SIZE)"
   ]
  },
  {
   "cell_type": "code",
   "execution_count": 3,
   "metadata": {
    "scrolled": false
   },
   "outputs": [
    {
     "name": "stdout",
     "output_type": "stream",
     "text": [
      "WARNING:tensorflow:From C:\\Users\\kevin\\Anaconda3\\lib\\site-packages\\keras\\backend\\tensorflow_backend.py:4070: The name tf.nn.max_pool is deprecated. Please use tf.nn.max_pool2d instead.\n",
      "\n",
      "WARNING:tensorflow:From C:\\Users\\kevin\\Anaconda3\\lib\\site-packages\\tensorflow\\python\\ops\\math_grad.py:1250: add_dispatch_support.<locals>.wrapper (from tensorflow.python.ops.array_ops) is deprecated and will be removed in a future version.\n",
      "Instructions for updating:\n",
      "Use tf.where in 2.0, which has the same broadcast rule as np.where\n",
      "WARNING:tensorflow:From C:\\Users\\kevin\\Anaconda3\\lib\\site-packages\\keras\\backend\\tensorflow_backend.py:422: The name tf.global_variables is deprecated. Please use tf.compat.v1.global_variables instead.\n",
      "\n",
      "Epoch 1/10\n",
      "512/512 [==============================] - 217s 424ms/step - loss: 0.0908 - accuracy: 0.9729\n",
      "saved  DATA\\WW600WL100\\model_\\vgg_unet.0\n",
      "Epoch 2/10\n",
      "512/512 [==============================] - 233s 455ms/step - loss: 0.0184 - accuracy: 0.9938\n",
      "saved  DATA\\WW600WL100\\model_\\vgg_unet.1\n",
      "Epoch 3/10\n",
      "512/512 [==============================] - 239s 467ms/step - loss: 0.0115 - accuracy: 0.9960\n",
      "saved  DATA\\WW600WL100\\model_\\vgg_unet.2\n",
      "Epoch 4/10\n",
      "512/512 [==============================] - 239s 467ms/step - loss: 0.0099 - accuracy: 0.9966\n",
      "saved  DATA\\WW600WL100\\model_\\vgg_unet.3\n",
      "Epoch 5/10\n",
      "512/512 [==============================] - 239s 467ms/step - loss: 0.0078 - accuracy: 0.9972\n",
      "saved  DATA\\WW600WL100\\model_\\vgg_unet.4\n",
      "Epoch 6/10\n",
      "512/512 [==============================] - 240s 469ms/step - loss: 0.0062 - accuracy: 0.9978\n",
      "saved  DATA\\WW600WL100\\model_\\vgg_unet.5\n",
      "Epoch 7/10\n",
      "512/512 [==============================] - 241s 470ms/step - loss: 0.0053 - accuracy: 0.9981\n",
      "saved  DATA\\WW600WL100\\model_\\vgg_unet.6\n",
      "Epoch 8/10\n",
      "512/512 [==============================] - 243s 474ms/step - loss: 0.0044 - accuracy: 0.9984\n",
      "saved  DATA\\WW600WL100\\model_\\vgg_unet.7\n",
      "Epoch 9/10\n",
      "512/512 [==============================] - 230s 450ms/step - loss: 0.0041 - accuracy: 0.9985\n",
      "saved  DATA\\WW600WL100\\model_\\vgg_unet.8\n",
      "Epoch 10/10\n",
      "512/512 [==============================] - 205s 401ms/step - loss: 0.0033 - accuracy: 0.9988\n",
      "saved  DATA\\WW600WL100\\model_\\vgg_unet.9\n"
     ]
    }
   ],
   "source": [
    "model_.train(\n",
    "    train_images = 'DATA\\\\WW600WL100\\\\train\\\\images',\n",
    "    train_annotations = 'DATA\\\\WW600WL100\\\\train\\\\annotations_tumor as kidney',\n",
    "    epochs = 10, # default = 5\n",
    "    steps_per_epoch = 512, # default = 512\n",
    "    verify_dataset = False, # 當資料量很多時檢驗資料集會花很多時間\n",
    "    checkpoints_path = 'DATA\\\\WW600WL100\\\\model_\\\\vgg_unet'\n",
    ")"
   ]
  },
  {
   "cell_type": "code",
   "execution_count": 4,
   "metadata": {},
   "outputs": [
    {
     "name": "stdout",
     "output_type": "stream",
     "text": [
      "loaded weights  DATA\\WW600WL100\\model_\\vgg_unet.9\n",
      "WARNING:tensorflow:From C:\\Users\\kevin\\Anaconda3\\lib\\site-packages\\keras\\backend\\tensorflow_backend.py:422: The name tf.global_variables is deprecated. Please use tf.compat.v1.global_variables instead.\n",
      "\n"
     ]
    }
   ],
   "source": [
    "from keras_segmentation.predict import predict\n",
    "pr = predict(inp=\"DATA\\\\WW600WL100\\\\train\\\\images\\\\KiTS_case00000_0257.png\", out_fname=None,\n",
    "            checkpoints_path='DATA\\\\WW600WL100\\\\model_\\\\vgg_unet')"
   ]
  },
  {
   "cell_type": "code",
   "execution_count": 5,
   "metadata": {},
   "outputs": [],
   "source": [
    "img_train_sample = cv2.imread('DATA\\\\WW600WL100\\\\train\\\\images\\\\KiTS_case00000_0257.png')\n",
    "seg_train_sample = cv2.imread('DATA\\\\WW600WL100\\\\train\\\\annotations_tumor as kidney\\\\KiTS_case00000_0257.png',cv2.IMREAD_GRAYSCALE)\n",
    "\n",
    "img_train_sample = cv2.resize(img_train_sample, (INPUT_SIZE, INPUT_SIZE))\n",
    "seg_train_sample = cv2.resize(seg_train_sample, (INPUT_SIZE, INPUT_SIZE))"
   ]
  },
  {
   "cell_type": "code",
   "execution_count": 6,
   "metadata": {},
   "outputs": [
    {
     "data": {
      "text/plain": [
       "<matplotlib.image.AxesImage at 0x12683063988>"
      ]
     },
     "execution_count": 6,
     "metadata": {},
     "output_type": "execute_result"
    },
    {
     "data": {
      "image/png": "[encoded data removed]",
      "text/plain": [
       "<Figure size 432x288 with 1 Axes>"
      ]
     },
     "metadata": {
      "needs_background": "light"
     },
     "output_type": "display_data"
    }
   ],
   "source": [
    "plt.imshow(img_train_sample)"
   ]
  },
  {
   "cell_type": "code",
   "execution_count": 7,
   "metadata": {},
   "outputs": [
    {
     "data": {
      "text/plain": [
       "<matplotlib.image.AxesImage at 0x12683a198c8>"
      ]
     },
     "execution_count": 7,
     "metadata": {},
     "output_type": "execute_result"
    },
    {
     "data": {
      "image/png": "[encoded data removed]",
      "text/plain": [
       "<Figure size 432x288 with 1 Axes>"
      ]
     },
     "metadata": {
      "needs_background": "light"
     },
     "output_type": "display_data"
    }
   ],
   "source": [
    "plt.imshow(seg_train_sample, cmap='gray') "
   ]
  },
  {
   "cell_type": "code",
   "execution_count": 8,
   "metadata": {},
   "outputs": [
    {
     "data": {
      "text/plain": [
       "<matplotlib.image.AxesImage at 0x12683a8ef88>"
      ]
     },
     "execution_count": 8,
     "metadata": {},
     "output_type": "execute_result"
    },
    {
     "data": {
      "image/png": "[encoded data removed]",
      "text/plain": [
       "<Figure size 432x288 with 1 Axes>"
      ]
     },
     "metadata": {
      "needs_background": "light"
     },
     "output_type": "display_data"
    }
   ],
   "source": [
    "plt.imshow(pr, cmap='gray') "
   ]
  },
  {
   "cell_type": "code",
   "execution_count": 9,
   "metadata": {},
   "outputs": [
    {
     "name": "stdout",
     "output_type": "stream",
     "text": [
      "loaded weights  DATA\\WW600WL100\\model_\\vgg_unet.9\n"
     ]
    }
   ],
   "source": [
    "from keras_segmentation.predict import predict\n",
    "pr = predict(inp=\"DATA\\\\WW600WL100\\\\test\\\\images\\\\KiTS_case00002_0140.png\", out_fname=None,\n",
    "            checkpoints_path='DATA\\\\WW600WL100\\\\model_\\\\vgg_unet')\n",
    "\n",
    "img_test_sample = cv2.imread('DATA\\\\WW600WL100\\\\test\\\\images\\\\KiTS_case00002_0140.png')\n",
    "seg_test_sample = cv2.imread('DATA\\\\WW600WL100\\\\test\\\\annotations_tumor as kidney\\\\KiTS_case00002_0140.png',cv2.IMREAD_GRAYSCALE)\n",
    "\n",
    "img_test_sample = cv2.resize(img_test_sample, (INPUT_SIZE, INPUT_SIZE))\n",
    "seg_test_sample = cv2.resize(seg_test_sample, (INPUT_SIZE, INPUT_SIZE))"
   ]
  },
  {
   "cell_type": "code",
   "execution_count": 13,
   "metadata": {},
   "outputs": [
    {
     "data": {
      "text/plain": [
       "<matplotlib.image.AxesImage at 0x126b2e42708>"
      ]
     },
     "execution_count": 13,
     "metadata": {},
     "output_type": "execute_result"
    },
    {
     "data": {
      "image/png": "[encoded data removed]",
      "text/plain": [
       "<Figure size 432x288 with 1 Axes>"
      ]
     },
     "metadata": {
      "needs_background": "light"
     },
     "output_type": "display_data"
    }
   ],
   "source": [
    "plt.imshow(img_test_sample)"
   ]
  },
  {
   "cell_type": "code",
   "execution_count": 14,
   "metadata": {},
   "outputs": [
    {
     "data": {
      "text/plain": [
       "<matplotlib.image.AxesImage at 0x126b2eab7c8>"
      ]
     },
     "execution_count": 14,
     "metadata": {},
     "output_type": "execute_result"
    },
    {
     "data": {
      "image/png": "[encoded data removed]",
      "text/plain": [
       "<Figure size 432x288 with 1 Axes>"
      ]
     },
     "metadata": {
      "needs_background": "light"
     },
     "output_type": "display_data"
    }
   ],
   "source": [
    "plt.imshow(seg_test_sample, cmap='gray') "
   ]
  },
  {
   "cell_type": "code",
   "execution_count": 15,
   "metadata": {},
   "outputs": [
    {
     "data": {
      "text/plain": [
       "<matplotlib.image.AxesImage at 0x12682c95a08>"
      ]
     },
     "execution_count": 15,
     "metadata": {},
     "output_type": "execute_result"
    },
    {
     "data": {
      "image/png": "[encoded data removed]",
      "text/plain": [
       "<Figure size 432x288 with 1 Axes>"
      ]
     },
     "metadata": {
      "needs_background": "light"
     },
     "output_type": "display_data"
    }
   ],
   "source": [
    "plt.imshow(pr, cmap='gray') "
   ]
  },
  {
   "cell_type": "markdown",
   "metadata": {},
   "source": [
    "## 第二部分：「不」使用keras_segmentation這個套件建立vgg_unet"
   ]
  },
  {
   "cell_type": "markdown",
   "metadata": {},
   "source": [
    "### 讀取函式庫、超參數設定"
   ]
  },
  {
   "cell_type": "code",
   "execution_count": 1,
   "metadata": {},
   "outputs": [],
   "source": [
    "### 讀取函式庫 ###\n",
    "%matplotlib inline\n",
    "import numpy as np\n",
    "import matplotlib.pyplot as plt\n",
    "import os\n",
    "import cv2"
   ]
  },
  {
   "cell_type": "code",
   "execution_count": 2,
   "metadata": {},
   "outputs": [],
   "source": [
    "x_train_path = 'DATA\\\\WW600WL100\\\\train\\\\images'\n",
    "y_train_path = 'DATA\\\\WW600WL100\\\\train\\\\annotations_tumor as kidney'\n",
    "checkpoints_path = 'DATA\\WW600WL100\\\\Model'\n",
    "model_name = 'vgg_unet'\n",
    "start_from_latest_checkpoints = True\n",
    "\n",
    "INPUT_SIZE = 64 # input size equal to output size\n",
    "CLASS_NUM = 2 # background and roi(kidney)\n",
    "\n",
    "# initialize the number of epochs and batch size\n",
    "EPOCHS = 10\n",
    "BATCH_SIZE = 2\n",
    "\n",
    "IMAGE_ORDERING = 'channels_last' # 不要亂改這個參數"
   ]
  },
  {
   "cell_type": "markdown",
   "metadata": {},
   "source": [
    "### 在程式中預先準備好資料集(不推薦，當資料集過大時會遇到記憶體不足的問題)"
   ]
  },
  {
   "cell_type": "code",
   "execution_count": 3,
   "metadata": {},
   "outputs": [],
   "source": [
    "# x_train = []\n",
    "# y_train = []"
   ]
  },
  {
   "cell_type": "code",
   "execution_count": 4,
   "metadata": {},
   "outputs": [],
   "source": [
    "# for f in os.listdir(x_train_path):\n",
    "#     img_array = cv2.imread(os.path.join(x_train_path, f), cv2.IMREAD_GRAYSCALE)\n",
    "#     img_array = cv2.resize(img_array, (INPUT_SIZE,INPUT_SIZE))\n",
    "#     x_train.append(img_array)"
   ]
  },
  {
   "cell_type": "code",
   "execution_count": 5,
   "metadata": {},
   "outputs": [],
   "source": [
    "# for f in os.listdir(y_train_path):\n",
    "#     img_array = cv2.imread(os.path.join(y_train_path, f), cv2.IMREAD_GRAYSCALE)\n",
    "#     img_array = cv2.resize(img_array, (INPUT_SIZE,INPUT_SIZE))\n",
    "#     seg_labels = np.zeros((INPUT_SIZE, INPUT_SIZE, CLASS_NUM)) # channel last\n",
    "#     for c in range(CLASS_NUM):\n",
    "#         seg_labels[:, :, c] = (img_array == c).astype(int) \n",
    "        \n",
    "#     ### 因應 keras_segmentation 在輸出層之後額外添加的層 ###\n",
    "#     seg_labels = np.reshape(seg_labels, (INPUT_SIZE * INPUT_SIZE, CLASS_NUM)) # channel last\n",
    "#     ###\n",
    "    \n",
    "#     y_train.append(seg_labels)"
   ]
  },
  {
   "cell_type": "code",
   "execution_count": 6,
   "metadata": {},
   "outputs": [],
   "source": [
    "# x_train = np.asarray(x_train)\n",
    "# y_train = np.asarray(y_train)"
   ]
  },
  {
   "cell_type": "code",
   "execution_count": 7,
   "metadata": {},
   "outputs": [],
   "source": [
    "# x_train = x_train.reshape(-1, INPUT_SIZE, INPUT_SIZE, 1)  # channel last"
   ]
  },
  {
   "cell_type": "code",
   "execution_count": 8,
   "metadata": {},
   "outputs": [],
   "source": [
    "# plt.imshow(x_train[256].reshape(INPUT_SIZE, INPUT_SIZE), cmap='gray') "
   ]
  },
  {
   "cell_type": "markdown",
   "metadata": {},
   "source": [
    "### 用生成器(generator)生成訓練圖片\n",
    "使用generator的好處在於，模型在訓練(或驗證)的過程中會依據批量大小生成圖片，不需要在程式中預先準備好資料集(通常資料集都會大到無法一口氣塞入記憶體之中)，減少記憶體的使用空間。另外，使用ImageDataGenerator可以對生成的圖片實施「資料增強(Data Augmentation)」，增加模型的泛化能力。"
   ]
  },
  {
   "cell_type": "code",
   "execution_count": 3,
   "metadata": {},
   "outputs": [],
   "source": [
    "### 取得資料集中所有的檔案路徑(包含CT影像和其對應標記的路徑) ###\n",
    "def get_pairs_from_paths(images_path, segs_path, ignore_non_matching=False):\n",
    "    \"\"\" Find all the images from the images_path directory and\n",
    "        the segmentation images from the segs_path directory\n",
    "        while checking integrity of data \"\"\"\n",
    "\n",
    "    ACCEPTABLE_IMAGE_FORMATS = [\".jpg\", \".jpeg\", \".png\", \".bmp\"]\n",
    "    ACCEPTABLE_SEGMENTATION_FORMATS = [\".png\", \".bmp\"]\n",
    "\n",
    "    image_files = []\n",
    "    segmentation_files = {}\n",
    "\n",
    "    for dir_entry in os.listdir(images_path):\n",
    "        if os.path.isfile(os.path.join(images_path, dir_entry)) and \\\n",
    "                os.path.splitext(dir_entry)[1] in ACCEPTABLE_IMAGE_FORMATS:\n",
    "            file_name, file_extension = os.path.splitext(dir_entry)\n",
    "            image_files.append((file_name, file_extension,\n",
    "                                os.path.join(images_path, dir_entry)))\n",
    "\n",
    "    for dir_entry in os.listdir(segs_path):\n",
    "        if os.path.isfile(os.path.join(segs_path, dir_entry)) and \\\n",
    "           os.path.splitext(dir_entry)[1] in ACCEPTABLE_SEGMENTATION_FORMATS:\n",
    "            file_name, file_extension = os.path.splitext(dir_entry)\n",
    "            full_dir_entry = os.path.join(segs_path, dir_entry)\n",
    "            if file_name in segmentation_files:\n",
    "                raise DataLoaderError(\"Segmentation file with filename {0}\"\n",
    "                                      \" already exists and is ambiguous to\"\n",
    "                                      \" resolve with path {1}.\"\n",
    "                                      \" Please remove or rename the latter.\"\n",
    "                                      .format(file_name, full_dir_entry))\n",
    "\n",
    "            segmentation_files[file_name] = (file_extension, full_dir_entry)\n",
    "\n",
    "    return_value = []\n",
    "    # Match the images and segmentations\n",
    "    for image_file, _, image_full_path in image_files:\n",
    "        if image_file in segmentation_files:\n",
    "            return_value.append((image_full_path,\n",
    "                                segmentation_files[image_file][1]))\n",
    "        elif ignore_non_matching:\n",
    "            continue\n",
    "        else:\n",
    "            # Error out\n",
    "            raise DataLoaderError(\"No corresponding segmentation \"\n",
    "                                  \"found for image {0}.\"\n",
    "                                  .format(image_full_path))\n",
    "\n",
    "    return return_value"
   ]
  },
  {
   "cell_type": "code",
   "execution_count": 4,
   "metadata": {},
   "outputs": [],
   "source": [
    "### 將CT影像的陣列轉成適合模型輸入的形式(維度轉換 + 標準化) ###\n",
    "def get_image_array(image_input,\n",
    "                    width, height,\n",
    "                    imgNorm=\"sub_mean\", ordering='channels_first'):\n",
    "    \"\"\" Load image array from input \"\"\"\n",
    "\n",
    "    if type(image_input) is np.ndarray:\n",
    "        # It is already an array, use it as it is\n",
    "        img = image_input\n",
    "    elif isinstance(image_input, six.string_types):\n",
    "        if not os.path.isfile(image_input):\n",
    "            raise DataLoaderError(\"get_image_array: path {0} doesn't exist\"\n",
    "                                  .format(image_input))\n",
    "        img = cv2.imread(image_input, 1)\n",
    "    else:\n",
    "        raise DataLoaderError(\"get_image_array: Can't process input type {0}\"\n",
    "                              .format(str(type(image_input))))\n",
    "\n",
    "    if imgNorm == \"sub_and_divide\": # 除以127.5，然後減 1\n",
    "        img = np.float32(cv2.resize(img, (width, height))) / 127.5 - 1\n",
    "    elif imgNorm == \"sub_mean\": # 減去ImageNet的平均BGR\n",
    "        img = cv2.resize(img, (width, height))\n",
    "        img = img.astype(np.float32)\n",
    "        img[:, :, 0] -= 103.939\n",
    "        img[:, :, 1] -= 116.779\n",
    "        img[:, :, 2] -= 123.68\n",
    "        img = img[:, :, ::-1]\n",
    "    elif imgNorm == \"divide\": # 除以255\n",
    "        img = cv2.resize(img, (width, height))\n",
    "        img = img.astype(np.float32)\n",
    "        img = img/255.0\n",
    "\n",
    "    if ordering == 'channels_first':\n",
    "        img = np.rollaxis(img, 2, 0)\n",
    "    return img\n",
    "\n",
    "### 將標記資料的陣列轉成適合模型輸入的形式(維度轉換) ###\n",
    "def get_segmentation_array(image_input, nClasses,\n",
    "                           width, height, no_reshape=False):\n",
    "    \"\"\" Load segmentation array from input \"\"\"\n",
    "\n",
    "    seg_labels = np.zeros((height, width, nClasses))\n",
    "\n",
    "    if type(image_input) is np.ndarray:\n",
    "        # It is already an array, use it as it is\n",
    "        img = image_input\n",
    "    elif isinstance(image_input, six.string_types):\n",
    "        if not os.path.isfile(image_input):\n",
    "            raise DataLoaderError(\"get_segmentation_array: \"\n",
    "                                  \"path {0} doesn't exist\".format(image_input))\n",
    "        img = cv2.imread(image_input, 1)\n",
    "    else:\n",
    "        raise DataLoaderError(\"get_segmentation_array: \"\n",
    "                              \"Can't process input type {0}\"\n",
    "                              .format(str(type(image_input))))\n",
    "\n",
    "    img = cv2.resize(img, (width, height), interpolation=cv2.INTER_NEAREST)\n",
    "    img = img[:, :, 0]\n",
    "\n",
    "    for c in range(nClasses):\n",
    "        seg_labels[:, :, c] = (img == c).astype(int)\n",
    "\n",
    "    if not no_reshape:\n",
    "        seg_labels = np.reshape(seg_labels, (width*height, nClasses))\n",
    "\n",
    "    return seg_labels\n"
   ]
  },
  {
   "cell_type": "code",
   "execution_count": 5,
   "metadata": {},
   "outputs": [
    {
     "name": "stderr",
     "output_type": "stream",
     "text": [
      "Using TensorFlow backend.\n"
     ]
    }
   ],
   "source": [
    "import itertools\n",
    "import random\n",
    "from keras.preprocessing.image import ImageDataGenerator\n",
    "\n",
    "def image_segmentation_generator(images_path, segs_path, batch_size,\n",
    "                                 n_classes, input_height, input_width,\n",
    "                                 output_height, output_width, do_augment=False):\n",
    "\n",
    "    img_seg_pairs = get_pairs_from_paths(images_path, segs_path) \n",
    "        # 取得資料集中所有的檔案路徑(包含CT影像和其對應標記的路徑)\n",
    "    random.shuffle(img_seg_pairs) # 打散檔案路徑\n",
    "    zipped = itertools.cycle(img_seg_pairs) \n",
    "        # 將檔案路徑用循環迭代器(iterator)封裝；範例：cycle('ABCD') --> A B C D A B C D ...\n",
    "\n",
    "    while True:\n",
    "        X = []\n",
    "        Y = []\n",
    "        for _ in range(batch_size): # batch_size多大，就取得多少份資料\n",
    "            im, seg = next(zipped) # 取得CT影像和其對應標記的路徑\n",
    "\n",
    "            im = cv2.imread(im, 1) # 1 = cv2.IMREAD_COLOR (讀取彩色圖片)\n",
    "            seg = cv2.imread(seg, 1)\n",
    "            \n",
    "            if do_augment:\n",
    "                ### Example of transforming images and masks together. ###\n",
    "                # we create two instances with the same arguments\n",
    "                data_gen_args = dict(featurewise_center=False, # 範例程式碼為True，但這裡我只是要把一張圖片變成是增強後的型態\n",
    "                         featurewise_std_normalization=False, # 範例程式碼為True，但這裡我只是要把一張圖片變成是增強後的型態\n",
    "                         rotation_range=30, # 範例程式碼為90\n",
    "                         width_shift_range=0.1,\n",
    "                         height_shift_range=0.1,\n",
    "                         zoom_range=0.2)\n",
    "                image_datagen = ImageDataGenerator(**data_gen_args)\n",
    "                mask_datagen = ImageDataGenerator(**data_gen_args)\n",
    "                # Provide the same seed and keyword arguments to the fit and flow methods\n",
    "                seed = random.randint(0,10000)\n",
    "                im_itr = image_datagen.flow(im.reshape(1, 512, 512, 3), batch_size=1, seed=seed)  \n",
    "                seg_itr = mask_datagen.flow(seg.reshape(1, 512, 512, 3), batch_size=1, seed=seed)  \n",
    "                im = next(im_itr).reshape(512, 512, 3)\n",
    "                seg = next(seg_itr).reshape(512, 512, 3)\n",
    "            \n",
    "            # 將CT影像和其對應的標記轉換成模型輸入的形式\n",
    "            X.append(get_image_array(im, input_width,\n",
    "                                     input_height, imgNorm=\"sub_mean\", ordering=IMAGE_ORDERING)) \n",
    "                # imgNorm預設為sub_mean\"，但這裡我改用圖片最常實施的正規化方法(同除以255)\n",
    "            Y.append(get_segmentation_array(\n",
    "                seg, n_classes, output_width, output_height))\n",
    "\n",
    "        yield np.array(X), np.array(Y)"
   ]
  },
  {
   "cell_type": "code",
   "execution_count": 40,
   "metadata": {},
   "outputs": [],
   "source": [
    "# generator_example = image_segmentation_generator(images_path = x_train_path, segs_path = y_train_path, \n",
    "#                                                  batch_size = 2, n_classes = CLASS_NUM, \n",
    "#                                                  input_height = INPUT_SIZE, input_width = INPUT_SIZE,\n",
    "#                                                  output_height = INPUT_SIZE, output_width = INPUT_SIZE, do_augment=False)\n",
    "# item = next(generator_example)"
   ]
  },
  {
   "cell_type": "code",
   "execution_count": 7,
   "metadata": {},
   "outputs": [
    {
     "data": {
      "text/plain": [
       "(2, 64, 64, 3)"
      ]
     },
     "execution_count": 7,
     "metadata": {},
     "output_type": "execute_result"
    }
   ],
   "source": [
    "# item[0].shape # X的維度為 (n, INPUT_SIZE, INPUT_SIZE, 3)"
   ]
  },
  {
   "cell_type": "code",
   "execution_count": 8,
   "metadata": {},
   "outputs": [
    {
     "name": "stderr",
     "output_type": "stream",
     "text": [
      "Clipping input data to the valid range for imshow with RGB data ([0..1] for floats or [0..255] for integers).\n"
     ]
    },
    {
     "data": {
      "text/plain": [
       "<matplotlib.image.AxesImage at 0x1be31ea3d08>"
      ]
     },
     "execution_count": 8,
     "metadata": {},
     "output_type": "execute_result"
    },
    {
     "data": {
      "image/png": "[encoded data removed]",
      "text/plain": [
       "<Figure size 432x288 with 1 Axes>"
      ]
     },
     "metadata": {
      "needs_background": "light"
     },
     "output_type": "display_data"
    }
   ],
   "source": [
    "# plt.imshow(item[0][0])"
   ]
  },
  {
   "cell_type": "code",
   "execution_count": 10,
   "metadata": {},
   "outputs": [
    {
     "data": {
      "text/plain": [
       "(2, 4096, 2)"
      ]
     },
     "execution_count": 10,
     "metadata": {},
     "output_type": "execute_result"
    }
   ],
   "source": [
    "# item[1].shape # Y的維度為 (n, INPUT_SIZE x INPUT_SIZE, class number)"
   ]
  },
  {
   "cell_type": "code",
   "execution_count": 43,
   "metadata": {},
   "outputs": [
    {
     "data": {
      "text/plain": [
       "<matplotlib.image.AxesImage at 0x1760bbc3ac8>"
      ]
     },
     "execution_count": 43,
     "metadata": {},
     "output_type": "execute_result"
    },
    {
     "data": {
      "image/png": "[encoded data removed]",
      "text/plain": [
       "<Figure size 432x288 with 1 Axes>"
      ]
     },
     "metadata": {
      "needs_background": "light"
     },
     "output_type": "display_data"
    }
   ],
   "source": [
    "# plt.imshow(item[1][0][:,0].reshape(INPUT_SIZE,INPUT_SIZE), cmap = 'gray')"
   ]
  },
  {
   "cell_type": "code",
   "execution_count": 44,
   "metadata": {},
   "outputs": [
    {
     "data": {
      "text/plain": [
       "<matplotlib.image.AxesImage at 0x1760e37b808>"
      ]
     },
     "execution_count": 44,
     "metadata": {},
     "output_type": "execute_result"
    },
    {
     "data": {
      "image/png": "[encoded data removed]",
      "text/plain": [
       "<Figure size 432x288 with 1 Axes>"
      ]
     },
     "metadata": {
      "needs_background": "light"
     },
     "output_type": "display_data"
    }
   ],
   "source": [
    "# plt.imshow(item[1][0][:,1].reshape(INPUT_SIZE,INPUT_SIZE), cmap = 'gray')"
   ]
  },
  {
   "cell_type": "code",
   "execution_count": 6,
   "metadata": {},
   "outputs": [],
   "source": [
    "# 建立訓練資料的生成器\n",
    "train_gen = image_segmentation_generator(images_path = x_train_path, segs_path = y_train_path, batch_size = BATCH_SIZE, \n",
    "                                         n_classes = CLASS_NUM, input_height = INPUT_SIZE, input_width = INPUT_SIZE, \n",
    "                                         output_height = INPUT_SIZE, output_width = INPUT_SIZE, do_augment=False)"
   ]
  },
  {
   "cell_type": "markdown",
   "metadata": {},
   "source": [
    "### 設定回調函式(callbacks)\n",
    "keras_segmentation自定義的回調函式好像缺了什麼，直接用在這份程式碼中並不會正常運作，因此我先註解掉，改用keras.callbacks.ModelCheckpoint定期儲存模型參數。"
   ]
  },
  {
   "cell_type": "code",
   "execution_count": 18,
   "metadata": {},
   "outputs": [],
   "source": [
    "# from keras.callbacks import Callback\n",
    "# class CheckpointsCallback(Callback):\n",
    "#     def __init__(self, checkpoints_path):\n",
    "#         self.checkpoints_path = checkpoints_path\n",
    "\n",
    "#     def on_epoch_end(self, epoch, logs=None):\n",
    "#         if self.checkpoints_path is not None:\n",
    "#             self.model.save_weights(self.checkpoints_path + \".\" + str(epoch))\n",
    "#             print(\"saved \", self.checkpoints_path + \".\" + str(epoch))"
   ]
  },
  {
   "cell_type": "code",
   "execution_count": 7,
   "metadata": {},
   "outputs": [],
   "source": [
    "from keras.callbacks import ModelCheckpoint\n",
    "callbacks = [ModelCheckpoint(os.path.join(checkpoints_path, model_name + '_{epoch}.h5'), \n",
    "                             save_weights_only=True, \n",
    "                             period=5)] # period=5：每5個Epoch才會儲存一次參數"
   ]
  },
  {
   "cell_type": "markdown",
   "metadata": {},
   "source": [
    "### 建立模型"
   ]
  },
  {
   "cell_type": "code",
   "execution_count": 8,
   "metadata": {},
   "outputs": [],
   "source": [
    "from tensorflow.keras.layers import Input, Conv2D, MaxPooling2D, ZeroPadding2D, BatchNormalization, UpSampling2D\n",
    "from tensorflow.keras.layers import Reshape, Activation\n",
    "from tensorflow.keras.models import Model\n",
    "from tensorflow.keras.layers import concatenate\n",
    "import keras"
   ]
  },
  {
   "cell_type": "code",
   "execution_count": 9,
   "metadata": {},
   "outputs": [],
   "source": [
    "input_height = input_width = INPUT_SIZE\n",
    "n_classes = CLASS_NUM"
   ]
  },
  {
   "cell_type": "markdown",
   "metadata": {},
   "source": [
    "#### Eecoder - VGG16"
   ]
  },
  {
   "cell_type": "code",
   "execution_count": 10,
   "metadata": {},
   "outputs": [
    {
     "name": "stdout",
     "output_type": "stream",
     "text": [
      "WARNING:tensorflow:From C:\\Users\\kevin\\Anaconda3\\lib\\site-packages\\tensorflow\\python\\ops\\init_ops.py:1251: calling VarianceScaling.__init__ (from tensorflow.python.ops.init_ops) with dtype is deprecated and will be removed in a future version.\n",
      "Instructions for updating:\n",
      "Call initializer instance with the dtype argument instead of passing it to the constructor\n"
     ]
    }
   ],
   "source": [
    "assert input_height % 32 == 0\n",
    "assert input_width % 32 == 0\n",
    "\n",
    "if IMAGE_ORDERING == 'channels_first':\n",
    "    MERGE_AXIS = 1\n",
    "elif IMAGE_ORDERING == 'channels_last':\n",
    "    MERGE_AXIS = -1\n",
    "\n",
    "if IMAGE_ORDERING == 'channels_first':\n",
    "    img_input = Input(shape=(3, input_height, input_width))\n",
    "elif IMAGE_ORDERING == 'channels_last':\n",
    "    img_input = Input(shape=(input_height, input_width, 3))\n",
    "\n",
    "x = Conv2D(64, (3, 3), activation='relu', padding='same',\n",
    "           name='block1_conv1', data_format=IMAGE_ORDERING)(img_input)\n",
    "x = Conv2D(64, (3, 3), activation='relu', padding='same',\n",
    "           name='block1_conv2', data_format=IMAGE_ORDERING)(x)\n",
    "x = MaxPooling2D((2, 2), strides=(2, 2), name='block1_pool',\n",
    "                 data_format=IMAGE_ORDERING)(x)\n",
    "f1 = x\n",
    "# Block 2\n",
    "x = Conv2D(128, (3, 3), activation='relu', padding='same',\n",
    "           name='block2_conv1', data_format=IMAGE_ORDERING)(x)\n",
    "x = Conv2D(128, (3, 3), activation='relu', padding='same',\n",
    "           name='block2_conv2', data_format=IMAGE_ORDERING)(x)\n",
    "x = MaxPooling2D((2, 2), strides=(2, 2), name='block2_pool',\n",
    "                 data_format=IMAGE_ORDERING)(x)\n",
    "f2 = x\n",
    "\n",
    "# Block 3\n",
    "x = Conv2D(256, (3, 3), activation='relu', padding='same',\n",
    "           name='block3_conv1', data_format=IMAGE_ORDERING)(x)\n",
    "x = Conv2D(256, (3, 3), activation='relu', padding='same',\n",
    "           name='block3_conv2', data_format=IMAGE_ORDERING)(x)\n",
    "x = Conv2D(256, (3, 3), activation='relu', padding='same',\n",
    "           name='block3_conv3', data_format=IMAGE_ORDERING)(x)\n",
    "x = MaxPooling2D((2, 2), strides=(2, 2), name='block3_pool',\n",
    "                 data_format=IMAGE_ORDERING)(x)\n",
    "f3 = x\n",
    "\n",
    "# Block 4\n",
    "x = Conv2D(512, (3, 3), activation='relu', padding='same',\n",
    "           name='block4_conv1', data_format=IMAGE_ORDERING)(x)\n",
    "x = Conv2D(512, (3, 3), activation='relu', padding='same',\n",
    "           name='block4_conv2', data_format=IMAGE_ORDERING)(x)\n",
    "x = Conv2D(512, (3, 3), activation='relu', padding='same',\n",
    "           name='block4_conv3', data_format=IMAGE_ORDERING)(x)\n",
    "x = MaxPooling2D((2, 2), strides=(2, 2), name='block4_pool',\n",
    "                 data_format=IMAGE_ORDERING)(x)\n",
    "f4 = x\n",
    "\n",
    "# Block 5\n",
    "x = Conv2D(512, (3, 3), activation='relu', padding='same',\n",
    "           name='block5_conv1', data_format=IMAGE_ORDERING)(x)\n",
    "x = Conv2D(512, (3, 3), activation='relu', padding='same',\n",
    "           name='block5_conv2', data_format=IMAGE_ORDERING)(x)\n",
    "x = Conv2D(512, (3, 3), activation='relu', padding='same',\n",
    "           name='block5_conv3', data_format=IMAGE_ORDERING)(x)\n",
    "x = MaxPooling2D((2, 2), strides=(2, 2), name='block5_pool',\n",
    "                 data_format=IMAGE_ORDERING)(x)\n",
    "f5 = x"
   ]
  },
  {
   "cell_type": "markdown",
   "metadata": {},
   "source": [
    "#### 對Eecoder載入用imagenet預訓練的參數"
   ]
  },
  {
   "cell_type": "code",
   "execution_count": 11,
   "metadata": {},
   "outputs": [],
   "source": [
    "import keras\n",
    "pretrained='imagenet'\n",
    "\n",
    "if IMAGE_ORDERING == 'channels_first':\n",
    "    pretrained_url = \"https://github.com/fchollet/deep-learning-models/\" \\\n",
    "                     \"releases/download/v0.1/\" \\\n",
    "                     \"vgg16_weights_th_dim_ordering_th_kernels_notop.h5\"\n",
    "elif IMAGE_ORDERING == 'channels_last':\n",
    "    pretrained_url = \"https://github.com/fchollet/deep-learning-models/\" \\\n",
    "                     \"releases/download/v0.1/\" \\\n",
    "                     \"vgg16_weights_tf_dim_ordering_tf_kernels_notop.h5\"\n",
    "\n",
    "if pretrained == 'imagenet':\n",
    "    VGG_Weights_path = keras.utils.get_file(\n",
    "        pretrained_url.split(\"/\")[-1], pretrained_url)\n",
    "    Model(img_input, x).load_weights(VGG_Weights_path)"
   ]
  },
  {
   "cell_type": "markdown",
   "metadata": {},
   "source": [
    "#### Decoder (這裡我有為了讓輸出大小和輸入大小保持一致新增一個含有上取樣層的block)"
   ]
  },
  {
   "cell_type": "code",
   "execution_count": 12,
   "metadata": {},
   "outputs": [],
   "source": [
    "o = f4\n",
    "\n",
    "o = (ZeroPadding2D((1, 1), data_format=IMAGE_ORDERING))(o)\n",
    "o = (Conv2D(512, (3, 3), padding='valid', data_format=IMAGE_ORDERING))(o)\n",
    "o = (BatchNormalization())(o)\n",
    "\n",
    "o = (UpSampling2D((2, 2), data_format=IMAGE_ORDERING))(o)\n",
    "o = (concatenate([o, f3], axis=MERGE_AXIS))\n",
    "o = (ZeroPadding2D((1, 1), data_format=IMAGE_ORDERING))(o)\n",
    "o = (Conv2D(256, (3, 3), padding='valid', data_format=IMAGE_ORDERING))(o)\n",
    "o = (BatchNormalization())(o)\n",
    "\n",
    "o = (UpSampling2D((2, 2), data_format=IMAGE_ORDERING))(o)\n",
    "o = (concatenate([o, f2], axis=MERGE_AXIS))\n",
    "o = (ZeroPadding2D((1, 1), data_format=IMAGE_ORDERING))(o)\n",
    "o = (Conv2D(128, (3, 3), padding='valid', data_format=IMAGE_ORDERING))(o)\n",
    "o = (BatchNormalization())(o)\n",
    "\n",
    "o = (UpSampling2D((2, 2), data_format=IMAGE_ORDERING))(o)\n",
    "o = (concatenate([o, f1], axis=MERGE_AXIS))\n",
    "o = (ZeroPadding2D((1, 1), data_format=IMAGE_ORDERING))(o)\n",
    "o = (Conv2D(64, (3, 3), padding='valid', data_format=IMAGE_ORDERING))(o)\n",
    "o = (BatchNormalization())(o)\n",
    "\n",
    "# 增加一個block讓圖片的輸出大小等於輸出大小\n",
    "o = (UpSampling2D((2, 2), data_format=IMAGE_ORDERING))(o)\n",
    "o = (ZeroPadding2D((1, 1), data_format=IMAGE_ORDERING))(o)\n",
    "o = (Conv2D(64, (3, 3), padding='valid', data_format=IMAGE_ORDERING))(o)\n",
    "o = (BatchNormalization())(o)\n",
    "# 額外新增的程式碼到這一行為止\n",
    "\n",
    "o = Conv2D(n_classes, (3, 3), padding='same', data_format=IMAGE_ORDERING)(o) # 輸出層\n",
    "\n",
    "### keras_segmentation 在輸出層之後額外添加的層 ###\n",
    "if IMAGE_ORDERING == 'channels_first':\n",
    "    o = (Reshape((n_classes, INPUT_SIZE * INPUT_SIZE)))(o)\n",
    "    o = (Permute((2, 1)))(o)\n",
    "elif IMAGE_ORDERING == 'channels_last':\n",
    "    o = (Reshape((INPUT_SIZE * INPUT_SIZE, n_classes)))(o)\n",
    "o = (Activation('softmax'))(o)\n",
    "###"
   ]
  },
  {
   "cell_type": "code",
   "execution_count": 13,
   "metadata": {},
   "outputs": [],
   "source": [
    "model = Model(img_input, o)"
   ]
  },
  {
   "cell_type": "markdown",
   "metadata": {},
   "source": [
    "#### 查看模型架構"
   ]
  },
  {
   "cell_type": "code",
   "execution_count": 14,
   "metadata": {},
   "outputs": [
    {
     "name": "stdout",
     "output_type": "stream",
     "text": [
      "Model: \"model_1\"\n",
      "__________________________________________________________________________________________________\n",
      "Layer (type)                    Output Shape         Param #     Connected to                     \n",
      "==================================================================================================\n",
      "input_1 (InputLayer)            [(None, 64, 64, 3)]  0                                            \n",
      "__________________________________________________________________________________________________\n",
      "block1_conv1 (Conv2D)           (None, 64, 64, 64)   1792        input_1[0][0]                    \n",
      "__________________________________________________________________________________________________\n",
      "block1_conv2 (Conv2D)           (None, 64, 64, 64)   36928       block1_conv1[0][0]               \n",
      "__________________________________________________________________________________________________\n",
      "block1_pool (MaxPooling2D)      (None, 32, 32, 64)   0           block1_conv2[0][0]               \n",
      "__________________________________________________________________________________________________\n",
      "block2_conv1 (Conv2D)           (None, 32, 32, 128)  73856       block1_pool[0][0]                \n",
      "__________________________________________________________________________________________________\n",
      "block2_conv2 (Conv2D)           (None, 32, 32, 128)  147584      block2_conv1[0][0]               \n",
      "__________________________________________________________________________________________________\n",
      "block2_pool (MaxPooling2D)      (None, 16, 16, 128)  0           block2_conv2[0][0]               \n",
      "__________________________________________________________________________________________________\n",
      "block3_conv1 (Conv2D)           (None, 16, 16, 256)  295168      block2_pool[0][0]                \n",
      "__________________________________________________________________________________________________\n",
      "block3_conv2 (Conv2D)           (None, 16, 16, 256)  590080      block3_conv1[0][0]               \n",
      "__________________________________________________________________________________________________\n",
      "block3_conv3 (Conv2D)           (None, 16, 16, 256)  590080      block3_conv2[0][0]               \n",
      "__________________________________________________________________________________________________\n",
      "block3_pool (MaxPooling2D)      (None, 8, 8, 256)    0           block3_conv3[0][0]               \n",
      "__________________________________________________________________________________________________\n",
      "block4_conv1 (Conv2D)           (None, 8, 8, 512)    1180160     block3_pool[0][0]                \n",
      "__________________________________________________________________________________________________\n",
      "block4_conv2 (Conv2D)           (None, 8, 8, 512)    2359808     block4_conv1[0][0]               \n",
      "__________________________________________________________________________________________________\n",
      "block4_conv3 (Conv2D)           (None, 8, 8, 512)    2359808     block4_conv2[0][0]               \n",
      "__________________________________________________________________________________________________\n",
      "block4_pool (MaxPooling2D)      (None, 4, 4, 512)    0           block4_conv3[0][0]               \n",
      "__________________________________________________________________________________________________\n",
      "zero_padding2d (ZeroPadding2D)  (None, 6, 6, 512)    0           block4_pool[0][0]                \n",
      "__________________________________________________________________________________________________\n",
      "conv2d (Conv2D)                 (None, 4, 4, 512)    2359808     zero_padding2d[0][0]             \n",
      "__________________________________________________________________________________________________\n",
      "batch_normalization (BatchNorma (None, 4, 4, 512)    2048        conv2d[0][0]                     \n",
      "__________________________________________________________________________________________________\n",
      "up_sampling2d (UpSampling2D)    (None, 8, 8, 512)    0           batch_normalization[0][0]        \n",
      "__________________________________________________________________________________________________\n",
      "concatenate (Concatenate)       (None, 8, 8, 768)    0           up_sampling2d[0][0]              \n",
      "                                                                 block3_pool[0][0]                \n",
      "__________________________________________________________________________________________________\n",
      "zero_padding2d_1 (ZeroPadding2D (None, 10, 10, 768)  0           concatenate[0][0]                \n",
      "__________________________________________________________________________________________________\n",
      "conv2d_1 (Conv2D)               (None, 8, 8, 256)    1769728     zero_padding2d_1[0][0]           \n",
      "__________________________________________________________________________________________________\n",
      "batch_normalization_1 (BatchNor (None, 8, 8, 256)    1024        conv2d_1[0][0]                   \n",
      "__________________________________________________________________________________________________\n",
      "up_sampling2d_1 (UpSampling2D)  (None, 16, 16, 256)  0           batch_normalization_1[0][0]      \n",
      "__________________________________________________________________________________________________\n",
      "concatenate_1 (Concatenate)     (None, 16, 16, 384)  0           up_sampling2d_1[0][0]            \n",
      "                                                                 block2_pool[0][0]                \n",
      "__________________________________________________________________________________________________\n",
      "zero_padding2d_2 (ZeroPadding2D (None, 18, 18, 384)  0           concatenate_1[0][0]              \n",
      "__________________________________________________________________________________________________\n",
      "conv2d_2 (Conv2D)               (None, 16, 16, 128)  442496      zero_padding2d_2[0][0]           \n",
      "__________________________________________________________________________________________________\n",
      "batch_normalization_2 (BatchNor (None, 16, 16, 128)  512         conv2d_2[0][0]                   \n",
      "__________________________________________________________________________________________________\n",
      "up_sampling2d_2 (UpSampling2D)  (None, 32, 32, 128)  0           batch_normalization_2[0][0]      \n",
      "__________________________________________________________________________________________________\n",
      "concatenate_2 (Concatenate)     (None, 32, 32, 192)  0           up_sampling2d_2[0][0]            \n",
      "                                                                 block1_pool[0][0]                \n",
      "__________________________________________________________________________________________________\n",
      "zero_padding2d_3 (ZeroPadding2D (None, 34, 34, 192)  0           concatenate_2[0][0]              \n",
      "__________________________________________________________________________________________________\n",
      "conv2d_3 (Conv2D)               (None, 32, 32, 64)   110656      zero_padding2d_3[0][0]           \n",
      "__________________________________________________________________________________________________\n",
      "batch_normalization_3 (BatchNor (None, 32, 32, 64)   256         conv2d_3[0][0]                   \n",
      "__________________________________________________________________________________________________\n",
      "up_sampling2d_3 (UpSampling2D)  (None, 64, 64, 64)   0           batch_normalization_3[0][0]      \n",
      "__________________________________________________________________________________________________\n",
      "zero_padding2d_4 (ZeroPadding2D (None, 66, 66, 64)   0           up_sampling2d_3[0][0]            \n",
      "__________________________________________________________________________________________________\n",
      "conv2d_4 (Conv2D)               (None, 64, 64, 64)   36928       zero_padding2d_4[0][0]           \n",
      "__________________________________________________________________________________________________\n",
      "batch_normalization_4 (BatchNor (None, 64, 64, 64)   256         conv2d_4[0][0]                   \n",
      "__________________________________________________________________________________________________\n",
      "conv2d_5 (Conv2D)               (None, 64, 64, 2)    1154        batch_normalization_4[0][0]      \n",
      "__________________________________________________________________________________________________\n",
      "reshape (Reshape)               (None, 4096, 2)      0           conv2d_5[0][0]                   \n",
      "__________________________________________________________________________________________________\n",
      "activation (Activation)         (None, 4096, 2)      0           reshape[0][0]                    \n",
      "==================================================================================================\n",
      "Total params: 12,360,130\n",
      "Trainable params: 12,358,082\n",
      "Non-trainable params: 2,048\n",
      "__________________________________________________________________________________________________\n"
     ]
    }
   ],
   "source": [
    "model.summary()"
   ]
  },
  {
   "cell_type": "markdown",
   "metadata": {},
   "source": [
    "### 編譯模型"
   ]
  },
  {
   "cell_type": "code",
   "execution_count": 15,
   "metadata": {},
   "outputs": [],
   "source": [
    "from tensorflow.keras.optimizers import Adam, Adadelta\n",
    "model.compile(loss = 'categorical_crossentropy',\n",
    "              optimizer = Adadelta(lr = 1.0), \n",
    "              # 雖然keras_segmentation是用 'adadelta' 做為優化器(優化器參數用預設的，學習率為1.0)，\n",
    "              # 但我直接輸入'adadelta'，之後查看學習率卻是0.001，所以最好設定Adadelta(lr = 1.0)而非直接輸入'adadelta'\n",
    "              #optimizer = 'adadelta',\n",
    "              metrics = ['accuracy'])"
   ]
  },
  {
   "cell_type": "code",
   "execution_count": 16,
   "metadata": {},
   "outputs": [
    {
     "name": "stdout",
     "output_type": "stream",
     "text": [
      "1.0\n"
     ]
    }
   ],
   "source": [
    "import keras.backend as K\n",
    "print(K.eval(model.optimizer.lr)) # 確保是1.0"
   ]
  },
  {
   "cell_type": "code",
   "execution_count": 41,
   "metadata": {},
   "outputs": [
    {
     "name": "stdout",
     "output_type": "stream",
     "text": [
      "0.001\n"
     ]
    }
   ],
   "source": [
    "# import keras.backend as K\n",
    "# print(K.eval(model.optimizer.lr)) # 錯誤的版本 --> 學習將會變得緩慢"
   ]
  },
  {
   "cell_type": "markdown",
   "metadata": {},
   "source": [
    "### 訓練模型"
   ]
  },
  {
   "cell_type": "code",
   "execution_count": 17,
   "metadata": {},
   "outputs": [
    {
     "name": "stdout",
     "output_type": "stream",
     "text": [
      "Model weights not found!\n",
      "-----建立新資料夾：DATA\\WW600WL100\\Model-----\n",
      "Epoch 1/10\n",
      "WARNING:tensorflow:From C:\\Users\\kevin\\Anaconda3\\lib\\site-packages\\tensorflow\\python\\ops\\math_grad.py:1250: add_dispatch_support.<locals>.wrapper (from tensorflow.python.ops.array_ops) is deprecated and will be removed in a future version.\n",
      "Instructions for updating:\n",
      "Use tf.where in 2.0, which has the same broadcast rule as np.where\n",
      "512/512 [==============================] - 139s 271ms/step - loss: 0.0901 - acc: 0.9734\n",
      "Epoch 2/10\n",
      "512/512 [==============================] - 130s 255ms/step - loss: 0.0203 - acc: 0.9932\n",
      "Epoch 3/10\n",
      "512/512 [==============================] - 133s 260ms/step - loss: 0.0119 - acc: 0.9959\n",
      "Epoch 4/10\n",
      "512/512 [==============================] - 134s 262ms/step - loss: 0.0084 - acc: 0.9970\n",
      "Epoch 5/10\n",
      "512/512 [==============================] - 134s 262ms/step - loss: 0.0069 - acc: 0.9975\n",
      "Epoch 6/10\n",
      "512/512 [==============================] - 134s 263ms/step - loss: 0.0057 - acc: 0.9979\n",
      "Epoch 7/10\n",
      "512/512 [==============================] - 131s 255ms/step - loss: 0.0046 - acc: 0.9983\n",
      "Epoch 8/10\n",
      "512/512 [==============================] - 131s 255ms/step - loss: 0.0044 - acc: 0.9984\n",
      "Epoch 9/10\n",
      "512/512 [==============================] - 131s 255ms/step - loss: 0.0037 - acc: 0.9986\n",
      "Epoch 10/10\n",
      "512/512 [==============================] - 131s 256ms/step - loss: 0.0034 - acc: 0.9987\n"
     ]
    },
    {
     "data": {
      "text/plain": [
       "<tensorflow.python.keras.callbacks.History at 0x1c60c087c48>"
      ]
     },
     "execution_count": 17,
     "metadata": {},
     "output_type": "execute_result"
    }
   ],
   "source": [
    "if start_from_latest_checkpoints:\n",
    "    try:\n",
    "        model.load_weights(\n",
    "            os.path.join(\n",
    "                checkpoints_path, \n",
    "                model_name + '_' + str(max([int(i.split('_')[-1][:-3]) for i in os.listdir(checkpoints_path)])) + '.h5'\n",
    "            )\n",
    "        )\n",
    "    except:\n",
    "        print('Model weights not found!')\n",
    "\n",
    "if not os.path.exists(checkpoints_path):\n",
    "    os.makedirs(checkpoints_path)\n",
    "    print('-----建立新資料夾：' + checkpoints_path + '-----') \n",
    "\n",
    "\n",
    "model.fit_generator(\n",
    "    train_gen,\n",
    "    steps_per_epoch = 512, \n",
    "    #steps_per_epoch = len(x_train) // BATCH_SIZE,\n",
    "    epochs = EPOCHS,\n",
    "    verbose = 1,\n",
    "    callbacks=callbacks\n",
    ")\n",
    "\n",
    "# score = model.evaluate(x_test, y_test, verbose=0)\n",
    "# print('Test loss:', score[0])\n",
    "# print('Test accuracy:', score[1])"
   ]
  },
  {
   "cell_type": "markdown",
   "metadata": {},
   "source": [
    "### 測試模型預測結果(from訓練集)"
   ]
  },
  {
   "cell_type": "code",
   "execution_count": 18,
   "metadata": {},
   "outputs": [],
   "source": [
    "img_train_sample = cv2.imread('DATA\\\\WW600WL100\\\\train\\\\images\\\\KiTS_case00000_0257.png')\n",
    "seg_train_sample = cv2.imread('DATA\\\\WW600WL100\\\\train\\\\annotations_tumor as kidney\\\\KiTS_case00000_0257.png',cv2.IMREAD_GRAYSCALE)"
   ]
  },
  {
   "cell_type": "code",
   "execution_count": 19,
   "metadata": {},
   "outputs": [
    {
     "data": {
      "text/plain": [
       "(512, 512, 3)"
      ]
     },
     "execution_count": 19,
     "metadata": {},
     "output_type": "execute_result"
    }
   ],
   "source": [
    "img_train_sample.shape"
   ]
  },
  {
   "cell_type": "code",
   "execution_count": 20,
   "metadata": {},
   "outputs": [],
   "source": [
    "img_train_sample = cv2.resize(img_train_sample, (INPUT_SIZE, INPUT_SIZE))\n",
    "seg_train_sample = cv2.resize(seg_train_sample, (INPUT_SIZE, INPUT_SIZE))"
   ]
  },
  {
   "cell_type": "markdown",
   "metadata": {},
   "source": [
    "# 記得先將要預測的圖片進行正規化(之前忘記做這一步害死我了)\n",
    "\n",
    "## 之前用什麼方法正規化現在就要用什麼方法正規化 (sub_mean of ImageNet)"
   ]
  },
  {
   "cell_type": "code",
   "execution_count": 21,
   "metadata": {},
   "outputs": [],
   "source": [
    "pr_in = img_train_sample.copy()\n",
    "pr_in = pr_in.astype(np.float32)\n",
    "pr_in[:, :, 0] -= 103.939 # B\n",
    "pr_in[:, :, 1] -= 116.779 # G\n",
    "pr_in[:, :, 2] -= 123.68 # R\n",
    "pr_in = pr_in[:, :, ::-1] \n",
    "    # ::-1 順序相反操作 例：[123] --> [321] \n",
    "    # 目的：對第三個維度進行置換，使BGR變成RGB"
   ]
  },
  {
   "cell_type": "code",
   "execution_count": 22,
   "metadata": {},
   "outputs": [],
   "source": [
    "pr = model.predict(np.array([pr_in]))[0]"
   ]
  },
  {
   "cell_type": "code",
   "execution_count": 23,
   "metadata": {},
   "outputs": [],
   "source": [
    "pr = pr.reshape(INPUT_SIZE, INPUT_SIZE, n_classes)"
   ]
  },
  {
   "cell_type": "code",
   "execution_count": 24,
   "metadata": {},
   "outputs": [
    {
     "data": {
      "text/plain": [
       "0.9999951"
      ]
     },
     "execution_count": 24,
     "metadata": {},
     "output_type": "execute_result"
    }
   ],
   "source": [
    "pr[0][0][0]"
   ]
  },
  {
   "cell_type": "code",
   "execution_count": 25,
   "metadata": {},
   "outputs": [
    {
     "data": {
      "text/plain": [
       "4.9363916e-06"
      ]
     },
     "execution_count": 25,
     "metadata": {},
     "output_type": "execute_result"
    }
   ],
   "source": [
    "pr[0][0][1]"
   ]
  },
  {
   "cell_type": "code",
   "execution_count": 26,
   "metadata": {},
   "outputs": [
    {
     "data": {
      "text/plain": [
       "1.0"
      ]
     },
     "execution_count": 26,
     "metadata": {},
     "output_type": "execute_result"
    }
   ],
   "source": [
    "pr[0][0][0] + pr[0][0][1]"
   ]
  },
  {
   "cell_type": "code",
   "execution_count": 27,
   "metadata": {},
   "outputs": [
    {
     "data": {
      "text/plain": [
       "(64, 64, 2)"
      ]
     },
     "execution_count": 27,
     "metadata": {},
     "output_type": "execute_result"
    }
   ],
   "source": [
    "pr.shape"
   ]
  },
  {
   "cell_type": "code",
   "execution_count": 28,
   "metadata": {},
   "outputs": [],
   "source": [
    "pr = pr.argmax(axis = 2)"
   ]
  },
  {
   "cell_type": "code",
   "execution_count": 29,
   "metadata": {},
   "outputs": [
    {
     "data": {
      "text/plain": [
       "(64, 64)"
      ]
     },
     "execution_count": 29,
     "metadata": {},
     "output_type": "execute_result"
    }
   ],
   "source": [
    "pr.shape"
   ]
  },
  {
   "cell_type": "code",
   "execution_count": 30,
   "metadata": {},
   "outputs": [
    {
     "data": {
      "text/plain": [
       "{0, 1}"
      ]
     },
     "execution_count": 30,
     "metadata": {},
     "output_type": "execute_result"
    }
   ],
   "source": [
    "set(pr.flatten())"
   ]
  },
  {
   "cell_type": "code",
   "execution_count": 31,
   "metadata": {},
   "outputs": [
    {
     "data": {
      "text/plain": [
       "<matplotlib.image.AxesImage at 0x1c60efdeb88>"
      ]
     },
     "execution_count": 31,
     "metadata": {},
     "output_type": "execute_result"
    },
    {
     "data": {
      "image/png": "[encoded data removed]",
      "text/plain": [
       "<Figure size 432x288 with 1 Axes>"
      ]
     },
     "metadata": {
      "needs_background": "light"
     },
     "output_type": "display_data"
    }
   ],
   "source": [
    "plt.imshow(img_train_sample)"
   ]
  },
  {
   "cell_type": "code",
   "execution_count": 32,
   "metadata": {},
   "outputs": [
    {
     "data": {
      "text/plain": [
       "<matplotlib.image.AxesImage at 0x1c60f503f48>"
      ]
     },
     "execution_count": 32,
     "metadata": {},
     "output_type": "execute_result"
    },
    {
     "data": {
      "image/png": "[encoded data removed]",
      "text/plain": [
       "<Figure size 432x288 with 1 Axes>"
      ]
     },
     "metadata": {
      "needs_background": "light"
     },
     "output_type": "display_data"
    }
   ],
   "source": [
    "plt.imshow(seg_train_sample, cmap='gray') "
   ]
  },
  {
   "cell_type": "code",
   "execution_count": 33,
   "metadata": {},
   "outputs": [
    {
     "data": {
      "text/plain": [
       "<matplotlib.image.AxesImage at 0x1c60f57d9c8>"
      ]
     },
     "execution_count": 33,
     "metadata": {},
     "output_type": "execute_result"
    },
    {
     "data": {
      "image/png": "[encoded data removed]",
      "text/plain": [
       "<Figure size 432x288 with 1 Axes>"
      ]
     },
     "metadata": {
      "needs_background": "light"
     },
     "output_type": "display_data"
    }
   ],
   "source": [
    "plt.imshow(pr, cmap='gray') "
   ]
  },
  {
   "cell_type": "code",
   "execution_count": 34,
   "metadata": {},
   "outputs": [
    {
     "data": {
      "text/plain": [
       "<matplotlib.image.AxesImage at 0x2401caa3a48>"
      ]
     },
     "execution_count": 34,
     "metadata": {},
     "output_type": "execute_result"
    },
    {
     "data": {
      "image/png": "[encoded data removed]",
      "text/plain": [
       "<Figure size 432x288 with 1 Axes>"
      ]
     },
     "metadata": {
      "needs_background": "light"
     },
     "output_type": "display_data"
    }
   ],
   "source": [
    "# plt.imshow(pr, cmap='gray') # 之前用到錯誤的學習率(0.001)跑出來的結果，模型尚未抓到訓練資料的特徵"
   ]
  },
  {
   "cell_type": "markdown",
   "metadata": {},
   "source": [
    "### 測試模型預測結果(from測試集)"
   ]
  },
  {
   "cell_type": "code",
   "execution_count": 34,
   "metadata": {},
   "outputs": [],
   "source": [
    "img_test_sample = cv2.imread('DATA\\\\WW600WL100\\\\test\\\\images\\\\KiTS_case00002_0140.png')\n",
    "seg_test_sample = cv2.imread('DATA\\\\WW600WL100\\\\test\\\\annotations_tumor as kidney\\\\KiTS_case00002_0140.png',cv2.IMREAD_GRAYSCALE)"
   ]
  },
  {
   "cell_type": "code",
   "execution_count": 35,
   "metadata": {},
   "outputs": [],
   "source": [
    "img_test_sample = cv2.resize(img_test_sample, (INPUT_SIZE, INPUT_SIZE))\n",
    "seg_test_sample = cv2.resize(seg_test_sample, (INPUT_SIZE, INPUT_SIZE))"
   ]
  },
  {
   "cell_type": "code",
   "execution_count": 36,
   "metadata": {},
   "outputs": [],
   "source": [
    "pr_in = img_test_sample.copy()\n",
    "pr_in = pr_in.astype(np.float32)\n",
    "pr_in[:, :, 0] -= 103.939 # B\n",
    "pr_in[:, :, 1] -= 116.779 # G\n",
    "pr_in[:, :, 2] -= 123.68 # R\n",
    "pr_in = pr_in[:, :, ::-1] \n",
    "\n",
    "pr = model.predict(np.array([pr_in]))[0]\n",
    "pr = pr.reshape(INPUT_SIZE, INPUT_SIZE, n_classes)\n",
    "pr = pr.argmax(axis = 2)"
   ]
  },
  {
   "cell_type": "code",
   "execution_count": 37,
   "metadata": {},
   "outputs": [
    {
     "data": {
      "text/plain": [
       "<matplotlib.image.AxesImage at 0x1c616719cc8>"
      ]
     },
     "execution_count": 37,
     "metadata": {},
     "output_type": "execute_result"
    },
    {
     "data": {
      "image/png": "[encoded data removed]",
      "text/plain": [
       "<Figure size 432x288 with 1 Axes>"
      ]
     },
     "metadata": {
      "needs_background": "light"
     },
     "output_type": "display_data"
    }
   ],
   "source": [
    "plt.imshow(img_test_sample, cmap='gray') "
   ]
  },
  {
   "cell_type": "code",
   "execution_count": 38,
   "metadata": {},
   "outputs": [
    {
     "data": {
      "text/plain": [
       "<matplotlib.image.AxesImage at 0x1c61a3507c8>"
      ]
     },
     "execution_count": 38,
     "metadata": {},
     "output_type": "execute_result"
    },
    {
     "data": {
      "image/png": "[encoded data removed]",
      "text/plain": [
       "<Figure size 432x288 with 1 Axes>"
      ]
     },
     "metadata": {
      "needs_background": "light"
     },
     "output_type": "display_data"
    }
   ],
   "source": [
    "plt.imshow(seg_test_sample, cmap='gray') "
   ]
  },
  {
   "cell_type": "code",
   "execution_count": 39,
   "metadata": {},
   "outputs": [
    {
     "data": {
      "text/plain": [
       "<matplotlib.image.AxesImage at 0x1c61a3a9748>"
      ]
     },
     "execution_count": 39,
     "metadata": {},
     "output_type": "execute_result"
    },
    {
     "data": {
      "image/png": "[encoded data removed]",
      "text/plain": [
       "<Figure size 432x288 with 1 Axes>"
      ]
     },
     "metadata": {
      "needs_background": "light"
     },
     "output_type": "display_data"
    }
   ],
   "source": [
    "plt.imshow(pr.reshape(INPUT_SIZE, INPUT_SIZE), cmap='gray') "
   ]
  }
 ],
 "metadata": {
  "kernelspec": {
   "display_name": "Python 3",
   "language": "python",
   "name": "python3"
  },
  "language_info": {
   "codemirror_mode": {
    "name": "ipython",
    "version": 3
   },
   "file_extension": ".py",
   "mimetype": "text/x-python",
   "name": "python",
   "nbconvert_exporter": "python",
   "pygments_lexer": "ipython3",
   "version": "3.7.4"
  }
 },
 "nbformat": 4,
 "nbformat_minor": 2
}
