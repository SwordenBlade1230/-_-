{
 "cells": [
  {
   "cell_type": "markdown",
   "metadata": {},
   "source": [
    "### 根據「KiTS19訓練集」CT影像中腎臟區域HU值的分布，找出腎臟區域最適合的窗寬和窗位"
   ]
  },
  {
   "cell_type": "code",
   "execution_count": 1,
   "metadata": {},
   "outputs": [],
   "source": [
    "import numpy as np\n",
    "import nibabel as nib\n",
    "import time\n",
    "import os\n",
    "from os.path import join"
   ]
  },
  {
   "cell_type": "code",
   "execution_count": 2,
   "metadata": {},
   "outputs": [],
   "source": [
    "dataset_path = 'kits'"
   ]
  },
  {
   "cell_type": "code",
   "execution_count": 3,
   "metadata": {},
   "outputs": [
    {
     "name": "stdout",
     "output_type": "stream",
     "text": [
      "程式開始執行...\n",
      "目前進度：10 / 210\n",
      "目前進度：20 / 210\n",
      "目前進度：30 / 210\n",
      "目前進度：40 / 210\n",
      "目前進度：50 / 210\n",
      "目前進度：60 / 210\n",
      "目前進度：70 / 210\n",
      "目前進度：80 / 210\n",
      "目前進度：90 / 210\n",
      "目前進度：100 / 210\n",
      "目前進度：110 / 210\n",
      "目前進度：120 / 210\n",
      "目前進度：130 / 210\n",
      "目前進度：140 / 210\n",
      "目前進度：150 / 210\n",
      "目前進度：160 / 210\n",
      "目前進度：170 / 210\n",
      "目前進度：180 / 210\n",
      "目前進度：190 / 210\n",
      "目前進度：200 / 210\n",
      "目前進度：210 / 210\n",
      "花費時間： 854.5638\n"
     ]
    }
   ],
   "source": [
    "st = time.time()\n",
    "\n",
    "print('程式開始執行...')\n",
    "\n",
    "case_num = 210\n",
    "\n",
    "hu_roi_train = []\n",
    "\n",
    "case_name_list = []\n",
    "\n",
    "for f in os.listdir(dataset_path):\n",
    "    if 'case_' in f:\n",
    "        case_name_list.append(f)\n",
    "\n",
    "for idx, f in enumerate(case_name_list):\n",
    "    if idx < case_num :\n",
    "        if (idx + 1) % 10 == 0:\n",
    "            print(f'目前進度：{idx + 1} / {case_num}')\n",
    "        img = nib.load(join(dataset_path, f, 'imaging.nii')).get_fdata()\n",
    "        img = img.astype('float32')\n",
    "        img = img.flatten()\n",
    "\n",
    "        seg = nib.load(join(dataset_path, f, 'segmentation.nii')).get_fdata()\n",
    "        seg = seg.astype('uint8')\n",
    "        seg = seg.flatten()\n",
    "        \n",
    "        hu_roi_train += list(img[(seg == 1) | (seg == 2)])\n",
    "        \n",
    "ed = time.time()\n",
    "\n",
    "sp_time = ed - st\n",
    "print(f'花費時間：{sp_time: .4f}')"
   ]
  },
  {
   "cell_type": "code",
   "execution_count": 5,
   "metadata": {},
   "outputs": [
    {
     "data": {
      "image/png": "[encoded data removed]",
      "text/plain": [
       "<Figure size 1296x432 with 1 Axes>"
      ]
     },
     "metadata": {
      "needs_background": "light"
     },
     "output_type": "display_data"
    }
   ],
   "source": [
    "%matplotlib inline\n",
    "import matplotlib.pyplot as plt\n",
    "import matplotlib.ticker as ticker\n",
    "\n",
    "plt.figure(figsize=(18, 6))\n",
    "plt.rcParams['axes.unicode_minus'] = False #用來正常顯示負號\n",
    "axs = plt.axes()\n",
    "axs.xaxis.set_major_locator(ticker.MultipleLocator(100))\n",
    "\n",
    "plt.hist(hu_roi_train, bins = 100)\n",
    "\n",
    "plt.axvline(x=np.mean(hu_roi_train), color='k')\n",
    "plt.axvline(x=np.mean(hu_roi_train) + 3 * np.std(hu_roi_train), color='k', linestyle='--')\n",
    "plt.axvline(x=np.mean(hu_roi_train) - 3 * np.std(hu_roi_train), color='k', linestyle='--')\n",
    "\n",
    "plt.show()"
   ]
  },
  {
   "cell_type": "markdown",
   "metadata": {},
   "source": [
    "### 根據「KiTS19訓練集」CT影像中腎臟腫瘤區域HU值的分布，找出腎臟腫瘤區域最適合的窗寬和窗位"
   ]
  },
  {
   "cell_type": "code",
   "execution_count": 6,
   "metadata": {},
   "outputs": [],
   "source": [
    "dataset_path = 'kits'"
   ]
  },
  {
   "cell_type": "code",
   "execution_count": 7,
   "metadata": {},
   "outputs": [
    {
     "name": "stdout",
     "output_type": "stream",
     "text": [
      "程式開始執行...\n",
      "目前進度：10 / 210\n",
      "目前進度：20 / 210\n",
      "目前進度：30 / 210\n",
      "目前進度：40 / 210\n",
      "目前進度：50 / 210\n",
      "目前進度：60 / 210\n",
      "目前進度：70 / 210\n",
      "目前進度：80 / 210\n",
      "目前進度：90 / 210\n",
      "目前進度：100 / 210\n",
      "目前進度：110 / 210\n",
      "目前進度：120 / 210\n",
      "目前進度：130 / 210\n",
      "目前進度：140 / 210\n",
      "目前進度：150 / 210\n",
      "目前進度：160 / 210\n",
      "目前進度：170 / 210\n",
      "目前進度：180 / 210\n",
      "目前進度：190 / 210\n",
      "目前進度：200 / 210\n",
      "目前進度：210 / 210\n",
      "花費時間： 1077.3027\n"
     ]
    }
   ],
   "source": [
    "st = time.time()\n",
    "\n",
    "print('程式開始執行...')\n",
    "\n",
    "case_num = 210\n",
    "\n",
    "hu_roi_train = []\n",
    "\n",
    "case_name_list = []\n",
    "\n",
    "for f in os.listdir(dataset_path):\n",
    "    if 'case_' in f:\n",
    "        case_name_list.append(f)\n",
    "\n",
    "for idx, f in enumerate(case_name_list):\n",
    "    if idx < case_num :\n",
    "        if (idx + 1) % 10 == 0:\n",
    "            print(f'目前進度：{idx + 1} / {case_num}')\n",
    "        img = nib.load(join(dataset_path, f, 'imaging.nii')).get_fdata()\n",
    "        img = img.astype('float32')\n",
    "        img = img.flatten()\n",
    "\n",
    "        seg = nib.load(join(dataset_path, f, 'segmentation.nii')).get_fdata()\n",
    "        seg = seg.astype('uint8')\n",
    "        seg = seg.flatten()\n",
    "        \n",
    "        hu_roi_train += list(img[seg == 2])\n",
    "        \n",
    "ed = time.time()\n",
    "\n",
    "sp_time = ed - st\n",
    "print(f'花費時間：{sp_time: .4f}')"
   ]
  },
  {
   "cell_type": "code",
   "execution_count": 8,
   "metadata": {},
   "outputs": [
    {
     "data": {
      "image/png": "[encoded data removed]",
      "text/plain": [
       "<Figure size 1296x432 with 1 Axes>"
      ]
     },
     "metadata": {
      "needs_background": "light"
     },
     "output_type": "display_data"
    }
   ],
   "source": [
    "plt.figure(figsize=(18, 6))\n",
    "plt.rcParams['axes.unicode_minus'] = False #用來正常顯示負號\n",
    "axs = plt.axes()\n",
    "axs.xaxis.set_major_locator(ticker.MultipleLocator(100))\n",
    "\n",
    "plt.hist(hu_roi_train, bins = 100)\n",
    "\n",
    "plt.axvline(x=np.mean(hu_roi_train), color='k')\n",
    "plt.axvline(x=np.mean(hu_roi_train) + 3 * np.std(hu_roi_train), color='k', linestyle='--')\n",
    "plt.axvline(x=np.mean(hu_roi_train) - 3 * np.std(hu_roi_train), color='k', linestyle='--')\n",
    "\n",
    "plt.show()"
   ]
  },
  {
   "cell_type": "code",
   "execution_count": null,
   "metadata": {},
   "outputs": [],
   "source": []
  },
  {
   "cell_type": "code",
   "execution_count": null,
   "metadata": {},
   "outputs": [],
   "source": []
  },
  {
   "cell_type": "code",
   "execution_count": 2,
   "metadata": {},
   "outputs": [],
   "source": [
    "gt = np.asarray([0,0,0,0,0])\n",
    "pd = np.asarray([0,0,0,0,0])"
   ]
  },
  {
   "cell_type": "code",
   "execution_count": 3,
   "metadata": {},
   "outputs": [],
   "source": [
    "roi_gt = np.greater(gt, 0)\n",
    "roi_pd = np.greater(pd, 0)"
   ]
  },
  {
   "cell_type": "code",
   "execution_count": 4,
   "metadata": {},
   "outputs": [
    {
     "data": {
      "text/plain": [
       "array([False, False, False, False, False])"
      ]
     },
     "execution_count": 4,
     "metadata": {},
     "output_type": "execute_result"
    }
   ],
   "source": [
    "roi_gt"
   ]
  },
  {
   "cell_type": "code",
   "execution_count": 5,
   "metadata": {},
   "outputs": [
    {
     "data": {
      "text/plain": [
       "array([False, False, False, False, False])"
      ]
     },
     "execution_count": 5,
     "metadata": {},
     "output_type": "execute_result"
    }
   ],
   "source": [
    "np.logical_and(roi_gt, roi_pd)"
   ]
  },
  {
   "cell_type": "code",
   "execution_count": 6,
   "metadata": {},
   "outputs": [
    {
     "data": {
      "text/plain": [
       "0"
      ]
     },
     "execution_count": 6,
     "metadata": {},
     "output_type": "execute_result"
    }
   ],
   "source": [
    "np.logical_and(roi_gt, roi_pd).sum()"
   ]
  },
  {
   "cell_type": "code",
   "execution_count": 7,
   "metadata": {},
   "outputs": [
    {
     "name": "stderr",
     "output_type": "stream",
     "text": [
      "C:\\Users\\oplabRTX2070S\\anaconda3\\lib\\site-packages\\ipykernel_launcher.py:1: RuntimeWarning: invalid value encountered in long_scalars\n",
      "  \"\"\"Entry point for launching an IPython kernel.\n"
     ]
    },
    {
     "data": {
      "text/plain": [
       "nan"
      ]
     },
     "execution_count": 7,
     "metadata": {},
     "output_type": "execute_result"
    }
   ],
   "source": [
    "np.logical_and(roi_gt, roi_pd).sum() / roi_gt.sum()"
   ]
  },
  {
   "cell_type": "code",
   "execution_count": 10,
   "metadata": {},
   "outputs": [
    {
     "data": {
      "text/plain": [
       "0"
      ]
     },
     "execution_count": 10,
     "metadata": {},
     "output_type": "execute_result"
    }
   ],
   "source": [
    "np.logical_and(roi_gt, roi_pd).sum()"
   ]
  },
  {
   "cell_type": "code",
   "execution_count": 9,
   "metadata": {},
   "outputs": [
    {
     "data": {
      "text/plain": [
       "0"
      ]
     },
     "execution_count": 9,
     "metadata": {},
     "output_type": "execute_result"
    }
   ],
   "source": [
    " roi_gt.sum()"
   ]
  }
 ],
 "metadata": {
  "kernelspec": {
   "display_name": "Python (kevin)",
   "language": "python",
   "name": "kevin"
  },
  "language_info": {
   "codemirror_mode": {
    "name": "ipython",
    "version": 3
   },
   "file_extension": ".py",
   "mimetype": "text/x-python",
   "name": "python",
   "nbconvert_exporter": "python",
   "pygments_lexer": "ipython3",
   "version": "3.7.6"
  }
 },
 "nbformat": 4,
 "nbformat_minor": 4
}
